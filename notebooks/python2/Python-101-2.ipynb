{
 "cells": [
  {
   "cell_type": "code",
   "execution_count": null,
   "metadata": {
    "collapsed": false
   },
   "outputs": [],
   "source": [
    "#Containers - That holds something\n",
    "\n",
    "# lists - - Let's checkout Help\n",
    "\n",
    "a = [1,2,3,4]\n",
    "name = ['Emma', 'Jane', 'Elizabeth']\n",
    "amixedlist = [1,2,'Apple', 4.5, 'My dog is brown']\n",
    "\n",
    "\n",
    "#indexes - - Let's checkout Help\n",
    "\n",
    "print a[1]\n",
    "print name[0]\n",
    "print amixedlist[3]\n",
    "\n",
    "#type - Let's checkout Help\n",
    "print type(a)\n",
    "\n",
    "#Concatation - - Let's checkout Help\n",
    "\n",
    "a[0] + amixedlist[0]\n",
    "\n",
    "#Slicing and Dicing - - Let's checkout Help\n",
    "\n",
    "print a[2:]\n",
    "print a[: -1]\n",
    "\n",
    "#List opertaions - - Let's checkout Help\n",
    "name[0] + \" Watson\"\n",
    "name.append(\"Mary\")\n",
    "print name\n",
    "\n",
    "#type - Let's checkout Help\n",
    "type(amixedlist)"
   ]
  },
  {
   "cell_type": "code",
   "execution_count": null,
   "metadata": {
    "collapsed": false
   },
   "outputs": [],
   "source": [
    "#dictionary - Let's checkout Help\n",
    "\n",
    "grocery_list={\"Fruit\":\"Apple\", \"Vegetable\":\"Tomato\", \"Beverage\":\"Milk\", \"Meat\":\"Chicken\"}\n",
    "print grocery_list[\"Fruit\"]\n",
    "print grocery_list[\"Vegetable\"]\n",
    "\n",
    "# dictionary operations -  Let's checkout Help\n",
    "grocery_list[\"Meat\"]=\"Fish\"\n",
    "print grocery_list\n",
    "type(grocery_list)"
   ]
  },
  {
   "cell_type": "code",
   "execution_count": null,
   "metadata": {
    "collapsed": false,
    "scrolled": true
   },
   "outputs": [],
   "source": [
    "#tuples -  Let's checkout Help\n",
    "\n",
    "atuple=(\"Mary\", \"had\", \"a\", \"little\", \"lamb\")\n",
    "\n",
    "print atuple[3]\n",
    "\n",
    "#tuples -  Woah !!  Let's checkout Help\n",
    "\n",
    "atuple.append(\"and it was white\")\n"
   ]
  },
  {
   "cell_type": "code",
   "execution_count": null,
   "metadata": {
    "collapsed": true
   },
   "outputs": [],
   "source": [
    "# Exercise 1 : Create a \"list\" to hold names of your 10 friends - Print out the name of your best friend using indexes"
   ]
  },
  {
   "cell_type": "code",
   "execution_count": null,
   "metadata": {
    "collapsed": true
   },
   "outputs": [],
   "source": [
    "# Exercise 1 : Create a \"dictionary\" to hold your name, address, birthdate and favourite hobby.\n",
    "Can you change your favourite hobby with the 2nd best thing you like to do?"
   ]
  }
 ],
 "metadata": {
  "kernelspec": {
   "display_name": "Python 2",
   "language": "python",
   "name": "python2"
  },
  "language_info": {
   "codemirror_mode": {
    "name": "ipython",
    "version": 2
   },
   "file_extension": ".py",
   "mimetype": "text/x-python",
   "name": "python",
   "nbconvert_exporter": "python",
   "pygments_lexer": "ipython2",
   "version": "2.7.6"
  }
 },
 "nbformat": 4,
 "nbformat_minor": 0
}
