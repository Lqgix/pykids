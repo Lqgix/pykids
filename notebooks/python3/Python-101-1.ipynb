{
 "cells": [
  {
   "cell_type": "code",
   "execution_count": null,
   "metadata": {
    "collapsed": false
   },
   "outputs": [],
   "source": [
    "\"\"\" A multi line comment \"\"\"\n",
    "#A single line comment\n",
    "print(\"Hello world\")"
   ]
  },
  {
   "cell_type": "code",
   "execution_count": null,
   "metadata": {
    "collapsed": false
   },
   "outputs": [],
   "source": [
    "#Data types - Basic Data types\n",
    "#Integer\n",
    "print (2 + 3)\n",
    "print (3 * 4)\n",
    "\n",
    "#Float\n",
    "print (2.5 + 4.56)\n",
    "\n",
    "#Strings \n",
    "print ('a')\n",
    "print ('Star' + 'Trek')\n",
    "\n",
    "#Boolean i.e. 1 (True) or 0 (False)"
   ]
  },
  {
   "cell_type": "code",
   "execution_count": null,
   "metadata": {
    "collapsed": false
   },
   "outputs": [],
   "source": [
    "#Variables - As in algebra a variable can hold a value \n",
    "\n",
    "a = 12\n",
    "b = 6\n",
    "print (a + b)\n",
    "print (a - b)\n",
    "\n",
    "# Assign values to another variable\n",
    "\n",
    "c = (a * b)\n",
    "print (c) "
   ]
  },
  {
   "cell_type": "code",
   "execution_count": null,
   "metadata": {
    "collapsed": false
   },
   "outputs": [],
   "source": [
    "#Built in functions in python - type\n",
    "print(type(1))\n",
    "print(type(\"Jane\"))\n",
    "print(type(\"1.234\"))\n",
    "print(type(1.234))\n"
   ]
  },
  {
   "cell_type": "code",
   "execution_count": null,
   "metadata": {
    "collapsed": false
   },
   "outputs": [],
   "source": [
    "#Built in functions in python - str\n",
    "print(str(23))"
   ]
  },
  {
   "cell_type": "code",
   "execution_count": null,
   "metadata": {
    "collapsed": true
   },
   "outputs": [],
   "source": [
    "# Exercise 1 : Print out the times table for 5. Bonus points for commenting your code!"
   ]
  }
 ],
 "metadata": {
  "kernelspec": {
   "display_name": "Python 3",
   "language": "python",
   "name": "python3"
  },
  "language_info": {
   "codemirror_mode": {
    "name": "ipython",
    "version": 3
   },
   "file_extension": ".py",
   "mimetype": "text/x-python",
   "name": "python",
   "nbconvert_exporter": "python",
   "pygments_lexer": "ipython3",
   "version": "3.5.0"
  }
 },
 "nbformat": 4,
 "nbformat_minor": 0
}
