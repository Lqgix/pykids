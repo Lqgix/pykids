{
 "cells": [
  {
   "cell_type": "markdown",
   "metadata": {},
   "source": [
    "# Curriculum\n",
    "\n",
    " "
   ]
  },
  {
   "cell_type": "markdown",
   "metadata": {
    "collapsed": true
   },
   "source": [
    "- [Hello world!](http://nbviewer.ipython.org/urls/raw.github.com/mpant/pykids/master/notebooks/python3/hello_world.ipynb)\n",
    "- [Simple calculator](http://nbviewer.ipython.org/urls/raw.github.com/mpant/pykids/master/notebooks/python3/calculator.ipynb)\n",
    "- [Name Tag](http://nbviewer.ipython.org/urls/raw.github.com/mpant/pykids/master/notebooks/python3/nametag.ipynb)\n",
    "- [Draw a turtle](http://nbviewer.ipython.org/urls/raw.github.com/mpant/pykids/master/notebooks/python3/draw.ipynb)\n",
    "- [Colorful Grids](http://nbviewer.ipython.org/urls/raw.github.com/mpant/pykids/master/notebooks/python3/grids.ipynb)\n",
    "    "
   ]
  }
 ],
 "metadata": {
  "celltoolbar": "Raw Cell Format",
  "kernelspec": {
   "display_name": "Python 3",
   "language": "python",
   "name": "python3"
  },
  "language_info": {
   "codemirror_mode": {
    "name": "ipython",
    "version": 3
   },
   "file_extension": ".py",
   "mimetype": "text/x-python",
   "name": "python",
   "nbconvert_exporter": "python",
   "pygments_lexer": "ipython3",
   "version": "3.5.0"
  }
 },
 "nbformat": 4,
 "nbformat_minor": 0
}
