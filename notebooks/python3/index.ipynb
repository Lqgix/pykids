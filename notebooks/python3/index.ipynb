{
 "cells": [
  {
   "cell_type": "markdown",
   "metadata": {},
   "source": [
    "# Curriculum\n",
    "(Python for 5th and 6th graders)\n",
    "\n",
    " "
   ]
  },
  {
   "cell_type": "markdown",
   "metadata": {
    "collapsed": true
   },
   "source": [
    "## Introduction\n",
    "- [What is programming?](https://www.google.com/url?sa=t&rct=j&q=&esrc=s&source=web&cd=2&ved=0ahUKEwjrm9Tcq87PAhVK_mMKHZ9tCGkQtwIIOTAB&url=https%3A%2F%2Fwww.khanacademy.org%2Fcomputing%2Fcomputer-programming%2Fprogramming%2Fintro-to-programming%2Fv%2Fprogramming-intro&usg=AFQjCNHRLmR0tzeJmy7bGKy7m6zw2zsv4Q&sig2=mwdP0kHDUpfIT3R9oB34oQ)\n",
    "- [Hello world!](http://nbviewer.ipython.org/urls/raw.github.com/mpant/pykids/master/notebooks/python3/hello_world.ipynb)\n",
    "- [Simple calculator](http://nbviewer.ipython.org/urls/raw.github.com/mpant/pykids/master/notebooks/python3/calculator.ipynb)\n",
    "- [Name Tag](http://nbviewer.ipython.org/urls/raw.github.com/mpant/pykids/master/notebooks/python3/nametag.ipynb)\n",
    "- [Draw](http://nbviewer.ipython.org/urls/raw.github.com/mpant/pykids/master/notebooks/python3/draw.ipynb)\n",
    "- [Colorful Grids](http://nbviewer.ipython.org/urls/raw.github.com/mpant/pykids/master/notebooks/python3/grids.ipynb)\n",
    "    "
   ]
  },
  {
   "cell_type": "markdown",
   "metadata": {
    "collapsed": true
   },
   "source": [
    "## Retrospective \n",
    "### Curious questions after the first class!\n",
    "- Thanks Khan academy for the \"programming video\" - that is nicely explained!\n",
    "- How do computers understand Python ? How do they know the difference between C++ and Python languages?\n",
    "- Who created all these languages - why are there so many?\n",
    "- Using print() , prints things out but when I do not use print() just say 2+5 , I still get the answer - why? I did not ask the computer to print() - This led us into a discussion on \"return statement\". Can you guess the next question - what is the difference between a statement and a function (command) like print() :)?   \n",
    "- help() is a hit - Children wanted to see what other \"things\" they can look up help on ? This led us to browsing through Python 3 docs!\n",
    "\n",
    "## Jargon that we learnt/are learning\n",
    "\n",
    "### Class 1\n",
    "- syntax\n",
    "- interpreter\n",
    "- compiler\n",
    "- command\n",
    "\n",
    "\n"
   ]
  }
 ],
 "metadata": {
  "celltoolbar": "Raw Cell Format",
  "kernelspec": {
   "display_name": "Python 3",
   "language": "python",
   "name": "python3"
  },
  "language_info": {
   "codemirror_mode": {
    "name": "ipython",
    "version": 3
   },
   "file_extension": ".py",
   "mimetype": "text/x-python",
   "name": "python",
   "nbconvert_exporter": "python",
   "pygments_lexer": "ipython3",
   "version": "3.5.0"
  }
 },
 "nbformat": 4,
 "nbformat_minor": 0
}
